{
 "cells": [
  {
   "cell_type": "markdown",
   "id": "363aa6f0-4486-40fc-92b8-aba2a80df6f8",
   "metadata": {},
   "source": [
    "# DMG Blockchain Solutions Inc\n",
    "\n",
    "## Overview and Origin\n",
    "This company provides cryptocurrency and blockchain platforms. One of the main focus of these platforms is the mining of public blockchains for the purpose of agriculture, pharmaceuticals, energy, precious metals, transportation, financial services, and manufacturing sectors.\n",
    "\n",
    "DMG manages, operates, and develops end-to-end digital solutions for blockchain ecosystem. The main businesses of DMG including:\n",
    "\n",
    "* Blockseer Software Platform: Develops and licenses proprietary blockchain and cryptocurrency software\n",
    "* Data Center Operations: DMG operates Christina Lake Data Center which is one of Canada’s largest crypto mining facilities\n",
    "* Forensics Consulting: Operation includes: Crypto mining audit, Digital asset valuation, Forensics Investigation in relation to Blockchain transactions, Blockchain Audit, AI Audit\n",
    "\n",
    "## Business Activities - Why This Matters\n",
    "\n",
    "DMG focuses on the mining of public blockchains and applying blockchain technology to address the fraud and friction of value through supply chains. The company offering includes bitcoin mining and hosting service, Mining as a Service (MaaS), Forensics, blockchain and cryptocurrency management platform. \n",
    "\n",
    "Through their crypto-centric platforms and forensic services, DMG leverage crypto adoption by focusing on regulatory & compliance issues as well as addressing crypto safety & security aspect.\n",
    "\n",
    "## Landscape - Why This May be Interesting:\n",
    "\n",
    "Blockseer which is one of DMG's main software product platform provides a trust-worthy eco-system for the Blockchain community. Blockseer platform includes:\n",
    "\n",
    "* Mining Pool - audited mining pool, providing real-time AML as well as mining compliance and governance. \n",
    "* WalletScore - blockchain audit and analytics tool for crypto wallets. This tool identify criminal activity such as crime funding or money laundering, generating risk reports for crypto users and platforms.\n",
    "* Mine Manager - enable large scale automatic mining of blockchain, cryptocurency. This software also provide optimization and improve performance of the automatic mining process.\n",
    "* Blockseer Intelligence - an analytics tool that enables the tracking of cryptocurrency on both the Bitcoin and Ethereum blockchains\n",
    "\n",
    " \n",
    "\n",
    "## Reference\n",
    "* [DMG Blockchain Solutions](https://dmgblockchain.com/)\n",
    "* [Reuter - Dmg Blockchain Solutions Inc Profile](https://www.reuters.com/companies/DMGI.V/profile)\n",
    "* [Crunchbase - DMG Blockchain](https://www.crunchbase.com/organization/dmg-blockchain-solutions)\n",
    "\n"
   ]
  },
  {
   "cell_type": "code",
   "execution_count": null,
   "id": "6a9a663b-04a9-4fc0-aaab-0a088ef9764c",
   "metadata": {},
   "outputs": [],
   "source": []
  }
 ],
 "metadata": {
  "kernelspec": {
   "display_name": "Python 3",
   "language": "python",
   "name": "python3"
  },
  "language_info": {
   "codemirror_mode": {
    "name": "ipython",
    "version": 3
   },
   "file_extension": ".py",
   "mimetype": "text/x-python",
   "name": "python",
   "nbconvert_exporter": "python",
   "pygments_lexer": "ipython3",
   "version": "3.7.10"
  }
 },
 "nbformat": 4,
 "nbformat_minor": 5
}
